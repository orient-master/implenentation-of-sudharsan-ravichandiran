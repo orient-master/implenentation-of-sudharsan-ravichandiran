{
 "cells": [
  {
   "cell_type": "code",
   "execution_count": 1,
   "id": "47273398-e7a0-46d4-8544-62bbe2d974bd",
   "metadata": {},
   "outputs": [],
   "source": [
    "def f(x):\n",
    "    return x**2"
   ]
  },
  {
   "cell_type": "code",
   "execution_count": 13,
   "id": "29082d3b-b8e3-43a1-b216-aed123893481",
   "metadata": {},
   "outputs": [
    {
     "ename": "NameError",
     "evalue": "name 'weights' is not defined",
     "output_type": "error",
     "traceback": [
      "\u001b[0;31m---------------------------------------------------------------------------\u001b[0m",
      "\u001b[0;31mNameError\u001b[0m                                 Traceback (most recent call last)",
      "Cell \u001b[0;32mIn[13], line 3\u001b[0m\n\u001b[1;32m      1\u001b[0m epsilon \u001b[38;5;241m=\u001b[39m \u001b[38;5;241m1e-2\u001b[39m\n\u001b[1;32m      2\u001b[0m x\u001b[38;5;241m=\u001b[39m\u001b[38;5;241m3\u001b[39m\n\u001b[0;32m----> 3\u001b[0m weights\n",
      "\u001b[0;31mNameError\u001b[0m: name 'weights' is not defined"
     ]
    }
   ],
   "source": [
    "epsilon = 1e-2\n",
    "x=3"
   ]
  },
  {
   "cell_type": "code",
   "execution_count": 5,
   "id": "d633791f-fb01-4624-91ff-6f33b3ec3d34",
   "metadata": {},
   "outputs": [
    {
     "name": "stdout",
     "output_type": "stream",
     "text": [
      "6\n"
     ]
    }
   ],
   "source": [
    "analytical_gradient = 2*x\n",
    "print(analytical_gradient)"
   ]
  },
  {
   "cell_type": "code",
   "execution_count": 6,
   "id": "93514804-3ae6-431c-9cd1-ce59fe53e365",
   "metadata": {},
   "outputs": [
    {
     "name": "stdout",
     "output_type": "stream",
     "text": [
      "5.999999999999872\n"
     ]
    }
   ],
   "source": [
    "numerical_gradient = (f(x+epsilon) - f(x-epsilon)) / (2*epsilon)\n",
    "print (numerical_gradient)"
   ]
  },
  {
   "cell_type": "code",
   "execution_count": 7,
   "id": "ba96c223-b907-4c32-844c-50108e926c51",
   "metadata": {},
   "outputs": [
    {
     "ename": "NameError",
     "evalue": "name 'weights' is not defined",
     "output_type": "error",
     "traceback": [
      "\u001b[0;31m---------------------------------------------------------------------------\u001b[0m",
      "\u001b[0;31mNameError\u001b[0m                                 Traceback (most recent call last)",
      "Cell \u001b[0;32mIn[7], line 1\u001b[0m\n\u001b[0;32m----> 1\u001b[0m weights_plus \u001b[38;5;241m=\u001b[39m weights \u001b[38;5;241m+\u001b[39m epsilon\n\u001b[1;32m      2\u001b[0m weights_minus \u001b[38;5;241m=\u001b[39m weights \u001b[38;5;241m-\u001b[39m epsilon\n",
      "\u001b[0;31mNameError\u001b[0m: name 'weights' is not defined"
     ]
    }
   ],
   "source": [
    "weights_plus = weights + epsilon\n",
    "weights_minus = weights - epsilon"
   ]
  },
  {
   "cell_type": "code",
   "execution_count": 8,
   "id": "b0c9bca2-6a25-41a6-9284-8ee9bde522b8",
   "metadata": {},
   "outputs": [
    {
     "ename": "NameError",
     "evalue": "name 'forward_prop' is not defined",
     "output_type": "error",
     "traceback": [
      "\u001b[0;31m---------------------------------------------------------------------------\u001b[0m",
      "\u001b[0;31mNameError\u001b[0m                                 Traceback (most recent call last)",
      "Cell \u001b[0;32mIn[8], line 1\u001b[0m\n\u001b[0;32m----> 1\u001b[0m J_plus \u001b[38;5;241m=\u001b[39m forward_prop(x, weights_plus)\n\u001b[1;32m      2\u001b[0m J_minus \u001b[38;5;241m=\u001b[39m forward_prop(x, weights_minus)\n",
      "\u001b[0;31mNameError\u001b[0m: name 'forward_prop' is not defined"
     ]
    }
   ],
   "source": [
    "J_plus = forward_prop(x, weights_plus)\n",
    "J_minus = forward_prop(x, weights_minus)"
   ]
  },
  {
   "cell_type": "code",
   "execution_count": 9,
   "id": "b3d6432c-4f48-401b-a77c-9df1d0eb6964",
   "metadata": {},
   "outputs": [
    {
     "ename": "NameError",
     "evalue": "name 'J_plus' is not defined",
     "output_type": "error",
     "traceback": [
      "\u001b[0;31m---------------------------------------------------------------------------\u001b[0m",
      "\u001b[0;31mNameError\u001b[0m                                 Traceback (most recent call last)",
      "Cell \u001b[0;32mIn[9], line 1\u001b[0m\n\u001b[0;32m----> 1\u001b[0m numerical_grad \u001b[38;5;241m=\u001b[39m (J_plus \u001b[38;5;241m-\u001b[39m J_minus) \u001b[38;5;241m/\u001b[39m (\u001b[38;5;241m2\u001b[39m \u001b[38;5;241m*\u001b[39m epsilon)\n",
      "\u001b[0;31mNameError\u001b[0m: name 'J_plus' is not defined"
     ]
    }
   ],
   "source": [
    "numerical_grad = (J_plus - J_minus) / (2 * epsilon)"
   ]
  },
  {
   "cell_type": "code",
   "execution_count": 10,
   "id": "a3c906d3-a886-4e21-8689-039d688cbd1f",
   "metadata": {},
   "outputs": [
    {
     "ename": "NameError",
     "evalue": "name 'backword_prop' is not defined",
     "output_type": "error",
     "traceback": [
      "\u001b[0;31m---------------------------------------------------------------------------\u001b[0m",
      "\u001b[0;31mNameError\u001b[0m                                 Traceback (most recent call last)",
      "Cell \u001b[0;32mIn[10], line 1\u001b[0m\n\u001b[0;32m----> 1\u001b[0m analytical_grad \u001b[38;5;241m=\u001b[39m backword_prop(x, weights)\n",
      "\u001b[0;31mNameError\u001b[0m: name 'backword_prop' is not defined"
     ]
    }
   ],
   "source": [
    "analytical_grad = backword_prop(x, weights)"
   ]
  },
  {
   "cell_type": "code",
   "execution_count": 11,
   "id": "56a14a99-ab5c-4788-b166-588b35f27a41",
   "metadata": {},
   "outputs": [
    {
     "ename": "NameError",
     "evalue": "name 'np' is not defined",
     "output_type": "error",
     "traceback": [
      "\u001b[0;31m---------------------------------------------------------------------------\u001b[0m",
      "\u001b[0;31mNameError\u001b[0m                                 Traceback (most recent call last)",
      "Cell \u001b[0;32mIn[11], line 1\u001b[0m\n\u001b[0;32m----> 1\u001b[0m numerator \u001b[38;5;241m=\u001b[39m np\u001b[38;5;241m.\u001b[39mlinalg\u001b[38;5;241m.\u001b[39mnorm(analytical_grad \u001b[38;5;241m-\u001b[39m numerical_grad)\n\u001b[1;32m      2\u001b[0m denominator \u001b[38;5;241m=\u001b[39m np\u001b[38;5;241m.\u001b[39mlinalg\u001b[38;5;241m.\u001b[39mnorm(analytical_grad) \u001b[38;5;241m+\u001b[39m np\u001b[38;5;241m.\u001b[39mlinalg\u001b[38;5;241m.\u001b[39mnorm(numerical_grad)\n\u001b[1;32m      3\u001b[0m relative_error \u001b[38;5;241m=\u001b[39m numerator \u001b[38;5;241m/\u001b[39m denominator\n",
      "\u001b[0;31mNameError\u001b[0m: name 'np' is not defined"
     ]
    }
   ],
   "source": [
    "numerator = np.linalg.norm(analytical_grad - numerical_grad)\n",
    "denominator = np.linalg.norm(analytical_grad) + np.linalg.norm(numerical_grad)\n",
    "relative_error = numerator / denominator\n"
   ]
  },
  {
   "cell_type": "code",
   "execution_count": 14,
   "id": "428951a5-a53b-4ede-8aa8-b130f85b67cc",
   "metadata": {},
   "outputs": [
    {
     "ename": "NameError",
     "evalue": "name 'relative_error' is not defined",
     "output_type": "error",
     "traceback": [
      "\u001b[0;31m---------------------------------------------------------------------------\u001b[0m",
      "\u001b[0;31mNameError\u001b[0m                                 Traceback (most recent call last)",
      "Cell \u001b[0;32mIn[14], line 1\u001b[0m\n\u001b[0;32m----> 1\u001b[0m \u001b[38;5;28;01mif\u001b[39;00m relative_error \u001b[38;5;241m<\u001b[39m \u001b[38;5;241m1e-7\u001b[39m:\n\u001b[1;32m      2\u001b[0m     \u001b[38;5;28mprint\u001b[39m (\u001b[38;5;124m\"\u001b[39m\u001b[38;5;124mThe gradient is correct!\u001b[39m\u001b[38;5;124m\"\u001b[39m)\n\u001b[1;32m      3\u001b[0m \u001b[38;5;28;01melse\u001b[39;00m:\n",
      "\u001b[0;31mNameError\u001b[0m: name 'relative_error' is not defined"
     ]
    }
   ],
   "source": [
    "if relative_error < 1e-7:\n",
    "    print (\"The gradient is correct!\")\n",
    "else:\n",
    "    print (\"The gradient is wrong!\")"
   ]
  },
  {
   "cell_type": "code",
   "execution_count": null,
   "id": "237a6c71-5641-4385-9dff-b2f5dc9f382a",
   "metadata": {},
   "outputs": [],
   "source": []
  }
 ],
 "metadata": {
  "kernelspec": {
   "display_name": "Python 3 (ipykernel)",
   "language": "python",
   "name": "python3"
  },
  "language_info": {
   "codemirror_mode": {
    "name": "ipython",
    "version": 3
   },
   "file_extension": ".py",
   "mimetype": "text/x-python",
   "name": "python",
   "nbconvert_exporter": "python",
   "pygments_lexer": "ipython3",
   "version": "3.11.7"
  }
 },
 "nbformat": 4,
 "nbformat_minor": 5
}

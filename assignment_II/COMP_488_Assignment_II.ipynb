{
 "cells": [
  {
   "cell_type": "markdown",
   "id": "581e469a-ea58-42db-a830-aaa0804055fe",
   "metadata": {},
   "source": [
    "## Getting familiar with TensorFlow 2.0"
   ]
  },
  {
   "cell_type": "code",
   "execution_count": 1,
   "id": "71cd0cf9-fb3f-4bd6-a44f-1f6cc91cd375",
   "metadata": {},
   "outputs": [],
   "source": [
    "import tensorflow as tf"
   ]
  },
  {
   "cell_type": "code",
   "execution_count": 2,
   "id": "ceb170c7-c249-4e9e-9f0a-fdc54d98293f",
   "metadata": {},
   "outputs": [
    {
     "data": {
      "text/plain": [
       "'2.17.0'"
      ]
     },
     "execution_count": 2,
     "metadata": {},
     "output_type": "execute_result"
    }
   ],
   "source": [
    "tf.__version__"
   ]
  },
  {
   "cell_type": "code",
   "execution_count": 3,
   "id": "43fa17fe-127e-4369-9ded-59e499024d40",
   "metadata": {},
   "outputs": [],
   "source": [
    "hello = tf.constant(\"Hello tensorflow\")"
   ]
  },
  {
   "cell_type": "code",
   "execution_count": 4,
   "id": "423065e5-a491-470b-aff5-c0f46ae67b43",
   "metadata": {},
   "outputs": [
    {
     "name": "stdout",
     "output_type": "stream",
     "text": [
      "tf.Tensor(b'Hello tensorflow', shape=(), dtype=string) b'Hello tensorflow'\n"
     ]
    }
   ],
   "source": [
    "print(hello, hello.numpy())"
   ]
  },
  {
   "cell_type": "code",
   "execution_count": 5,
   "id": "3f953e19-0be7-4b6e-9d5f-ee54879074d3",
   "metadata": {},
   "outputs": [
    {
     "data": {
      "text/plain": [
       "<tf.Tensor: shape=(), dtype=int32, numpy=15>"
      ]
     },
     "execution_count": 5,
     "metadata": {},
     "output_type": "execute_result"
    }
   ],
   "source": [
    "a = tf.constant(15)\n",
    "a"
   ]
  },
  {
   "cell_type": "code",
   "execution_count": 6,
   "id": "e06a6b61-0680-49f8-ad1e-b54222b57240",
   "metadata": {},
   "outputs": [
    {
     "data": {
      "text/plain": [
       "<tf.Tensor: shape=(1, 1), dtype=float64, numpy=array([[-1.]])>"
      ]
     },
     "execution_count": 6,
     "metadata": {},
     "output_type": "execute_result"
    }
   ],
   "source": [
    "b = tf.constant(-1, shape=(1,1), dtype=tf.float64)\n",
    "b"
   ]
  },
  {
   "cell_type": "code",
   "execution_count": 7,
   "id": "20ca684c-4691-4dd1-a9b3-501aa1fc96e6",
   "metadata": {},
   "outputs": [
    {
     "data": {
      "text/plain": [
       "<tf.Tensor: shape=(2, 3), dtype=int32, numpy=\n",
       "array([[1, 2, 3],\n",
       "       [4, 5, 6]], dtype=int32)>"
      ]
     },
     "execution_count": 7,
     "metadata": {},
     "output_type": "execute_result"
    }
   ],
   "source": [
    "c = tf.constant([[1,2,3], [4,5,6]])\n",
    "c"
   ]
  },
  {
   "cell_type": "code",
   "execution_count": 8,
   "id": "f2cccd40-7de2-4b0f-9ec7-b6859e344056",
   "metadata": {},
   "outputs": [
    {
     "data": {
      "text/plain": [
       "<tf.Tensor: shape=(4, 3), dtype=int32, numpy=\n",
       "array([[1, 1, 1],\n",
       "       [1, 1, 1],\n",
       "       [1, 1, 1],\n",
       "       [1, 1, 1]], dtype=int32)>"
      ]
     },
     "execution_count": 8,
     "metadata": {},
     "output_type": "execute_result"
    }
   ],
   "source": [
    "d = tf.constant(1, shape = (4,3))\n",
    "# d = tf.ones(shape = (4,3))\n",
    "d"
   ]
  },
  {
   "cell_type": "code",
   "execution_count": 9,
   "id": "9762226d-98ca-4f4f-8eb9-75b15935c53b",
   "metadata": {},
   "outputs": [
    {
     "data": {
      "text/plain": [
       "<tf.Tensor: shape=(4, 4), dtype=float32, numpy=\n",
       "array([[1., 0., 0., 0.],\n",
       "       [0., 1., 0., 0.],\n",
       "       [0., 0., 1., 0.],\n",
       "       [0., 0., 0., 1.]], dtype=float32)>"
      ]
     },
     "execution_count": 9,
     "metadata": {},
     "output_type": "execute_result"
    }
   ],
   "source": [
    "e = tf.eye(4) # identity matrix\n",
    "e"
   ]
  },
  {
   "cell_type": "code",
   "execution_count": 10,
   "id": "41f7c350-cdfb-4477-bd8a-1e9139e63603",
   "metadata": {},
   "outputs": [
    {
     "data": {
      "text/plain": [
       "<tf.Tensor: shape=(4, 2), dtype=float32, numpy=\n",
       "array([[-0.48762047,  0.03411695],\n",
       "       [-0.18745087, -0.18864644],\n",
       "       [ 0.16177073, -0.02638788],\n",
       "       [ 0.12725055, -0.06150798]], dtype=float32)>"
      ]
     },
     "execution_count": 10,
     "metadata": {},
     "output_type": "execute_result"
    }
   ],
   "source": [
    "tensor = tf.random.normal((4,2), mean = 0, stddev = 0.3)\n",
    "tensor"
   ]
  },
  {
   "cell_type": "code",
   "execution_count": 11,
   "id": "5c7f49e6-c780-4776-bd71-51f63a69cabf",
   "metadata": {},
   "outputs": [
    {
     "data": {
      "text/plain": [
       "<tf.Tensor: shape=(2, 6), dtype=float32, numpy=\n",
       "array([[0.98841536, 0.6033088 , 0.65177035, 0.83308506, 0.4583906 ,\n",
       "        0.8864448 ],\n",
       "       [0.12334859, 0.532434  , 0.71152735, 0.51645994, 0.90716386,\n",
       "        0.68600094]], dtype=float32)>"
      ]
     },
     "execution_count": 11,
     "metadata": {},
     "output_type": "execute_result"
    }
   ],
   "source": [
    "tensor = tf.random.uniform((2,6), minval=0, maxval=1)\n",
    "tensor"
   ]
  },
  {
   "cell_type": "code",
   "execution_count": 12,
   "id": "f3aac615-e847-48cc-aa54-a60974251d5d",
   "metadata": {},
   "outputs": [
    {
     "data": {
      "text/plain": [
       "<tf.Tensor: shape=(3,), dtype=int32, numpy=array([ 4,  8, 12], dtype=int32)>"
      ]
     },
     "execution_count": 12,
     "metadata": {},
     "output_type": "execute_result"
    }
   ],
   "source": [
    "tensor = tf.range(4, 15, 4)\n",
    "tensor"
   ]
  },
  {
   "cell_type": "code",
   "execution_count": 13,
   "id": "32807852-f8c4-4e29-981e-4451d2945181",
   "metadata": {},
   "outputs": [
    {
     "data": {
      "text/plain": [
       "<tf.Tensor: shape=(3,), dtype=float32, numpy=array([ 4.,  8., 12.], dtype=float32)>"
      ]
     },
     "execution_count": 13,
     "metadata": {},
     "output_type": "execute_result"
    }
   ],
   "source": [
    "tensor = tf.cast(tensor, dtype=tf.float32)\n",
    "tensor"
   ]
  },
  {
   "cell_type": "code",
   "execution_count": 14,
   "id": "7e256ae9-0010-4d16-bac9-0b6cf3f6548a",
   "metadata": {},
   "outputs": [],
   "source": [
    "x = tf.constant([1,2])\n",
    "y = tf.constant([4,5])"
   ]
  },
  {
   "cell_type": "code",
   "execution_count": 15,
   "id": "9f1e43cf-b085-4585-aac8-81121699e31f",
   "metadata": {},
   "outputs": [
    {
     "data": {
      "text/plain": [
       "<tf.Tensor: shape=(2,), dtype=int32, numpy=array([5, 7], dtype=int32)>"
      ]
     },
     "execution_count": 15,
     "metadata": {},
     "output_type": "execute_result"
    }
   ],
   "source": [
    "z = x + y\n",
    "# z = tf.add(x,y) equivalent to z = x + y\n",
    "z"
   ]
  },
  {
   "cell_type": "code",
   "execution_count": 16,
   "id": "50199825-ce8a-4cd1-913e-9cd37cdfddff",
   "metadata": {},
   "outputs": [
    {
     "data": {
      "text/plain": [
       "<tf.Tensor: shape=(2,), dtype=int32, numpy=array([-3, -3], dtype=int32)>"
      ]
     },
     "execution_count": 16,
     "metadata": {},
     "output_type": "execute_result"
    }
   ],
   "source": [
    "z = x - y\n",
    "z"
   ]
  },
  {
   "cell_type": "code",
   "execution_count": 17,
   "id": "3633a561-d49f-4f73-ab4b-85aedd79a005",
   "metadata": {},
   "outputs": [
    {
     "data": {
      "text/plain": [
       "<tf.Tensor: shape=(2,), dtype=int32, numpy=array([ 4, 10], dtype=int32)>"
      ]
     },
     "execution_count": 17,
     "metadata": {},
     "output_type": "execute_result"
    }
   ],
   "source": [
    "z = x * y\n",
    "z"
   ]
  },
  {
   "cell_type": "code",
   "execution_count": 18,
   "id": "ad50eade-fbda-4119-8135-d64509ec6dc6",
   "metadata": {},
   "outputs": [
    {
     "data": {
      "text/plain": [
       "<tf.Tensor: shape=(2,), dtype=float64, numpy=array([0.25, 0.4 ])>"
      ]
     },
     "execution_count": 18,
     "metadata": {},
     "output_type": "execute_result"
    }
   ],
   "source": [
    "z = x / y\n",
    "z"
   ]
  },
  {
   "cell_type": "code",
   "execution_count": 19,
   "id": "685b1260-d120-4f21-9110-2affcfff0895",
   "metadata": {},
   "outputs": [
    {
     "data": {
      "text/plain": [
       "<tf.Tensor: shape=(), dtype=int32, numpy=14>"
      ]
     },
     "execution_count": 19,
     "metadata": {},
     "output_type": "execute_result"
    }
   ],
   "source": [
    "z = tf.tensordot(x,y, axes=1)\n",
    "z"
   ]
  },
  {
   "cell_type": "code",
   "execution_count": 20,
   "id": "6ffce9ba-5ab1-49b9-8978-c1bec7dc862b",
   "metadata": {},
   "outputs": [],
   "source": [
    "x = tf.random.normal((3,2))\n",
    "y = tf.random.normal((2,3))"
   ]
  },
  {
   "cell_type": "code",
   "execution_count": 21,
   "id": "a142da2b-98a2-48b0-884b-5bcdcdd3d4fb",
   "metadata": {},
   "outputs": [
    {
     "data": {
      "text/plain": [
       "<tf.Tensor: shape=(3, 3), dtype=float32, numpy=\n",
       "array([[ 1.5135272 ,  0.01081996,  1.1116048 ],\n",
       "       [-0.14109427, -0.00280695, -0.10628406],\n",
       "       [-0.7054579 ,  0.40500864,  0.08793351]], dtype=float32)>"
      ]
     },
     "execution_count": 21,
     "metadata": {},
     "output_type": "execute_result"
    }
   ],
   "source": [
    "z = tf.matmul(x, y)\n",
    "# z = x @ y\n",
    "z"
   ]
  },
  {
   "cell_type": "code",
   "execution_count": 22,
   "id": "725d3310-774f-49fe-9a28-0571eacfd25b",
   "metadata": {},
   "outputs": [],
   "source": [
    "x = tf.constant([1,2,4,5,31,3])"
   ]
  },
  {
   "cell_type": "code",
   "execution_count": 23,
   "id": "f462e6f5-5588-4c39-9da7-b3d0cd31a364",
   "metadata": {},
   "outputs": [
    {
     "name": "stdout",
     "output_type": "stream",
     "text": [
      "tf.Tensor([ 1  2  4  5 31  3], shape=(6,), dtype=int32)\n",
      "tf.Tensor([ 2  4  5 31  3], shape=(5,), dtype=int32)\n",
      "tf.Tensor([ 1  4 31], shape=(3,), dtype=int32)\n",
      "tf.Tensor([ 3 31  5  4  2  1], shape=(6,), dtype=int32)\n"
     ]
    }
   ],
   "source": [
    "print(x[:])\n",
    "print(x[1:])\n",
    "print(x[::2])\n",
    "print(x[::-1])"
   ]
  },
  {
   "cell_type": "code",
   "execution_count": 24,
   "id": "3b8e7c5c-0852-4de3-8709-548a82718b6d",
   "metadata": {},
   "outputs": [
    {
     "data": {
      "text/plain": [
       "<tf.Tensor: shape=(2,), dtype=int32, numpy=array([1, 3], dtype=int32)>"
      ]
     },
     "execution_count": 24,
     "metadata": {},
     "output_type": "execute_result"
    }
   ],
   "source": [
    "indices = tf.constant([0,5])\n",
    "selected_x = tf.gather(x, indices)\n",
    "selected_x"
   ]
  },
  {
   "cell_type": "code",
   "execution_count": 25,
   "id": "91483b6f-58dd-40f7-80e0-ff6f0af77d24",
   "metadata": {},
   "outputs": [
    {
     "name": "stdout",
     "output_type": "stream",
     "text": [
      "tf.Tensor([1 2], shape=(2,), dtype=int32)\n",
      "tf.Tensor(\n",
      "[[2]\n",
      " [4]], shape=(2, 1), dtype=int32)\n"
     ]
    }
   ],
   "source": [
    "x = tf.constant([[1,2],\n",
    "                [3,4],\n",
    "                [5,6]])\n",
    "print(x[0,:])\n",
    "print(x[0:2,1:])"
   ]
  },
  {
   "cell_type": "code",
   "execution_count": 26,
   "id": "0ac8e388-2c3b-4d4a-bdc8-a7d8800d95cf",
   "metadata": {},
   "outputs": [],
   "source": [
    "x = tf.range(9)"
   ]
  },
  {
   "cell_type": "code",
   "execution_count": 27,
   "id": "7487216d-2b9a-4e23-8458-e5953b135440",
   "metadata": {},
   "outputs": [
    {
     "data": {
      "text/plain": [
       "<tf.Tensor: shape=(3, 3), dtype=int32, numpy=\n",
       "array([[0, 1, 2],\n",
       "       [3, 4, 5],\n",
       "       [6, 7, 8]], dtype=int32)>"
      ]
     },
     "execution_count": 27,
     "metadata": {},
     "output_type": "execute_result"
    }
   ],
   "source": [
    "y = tf.reshape(x, (-1,3))\n",
    "y"
   ]
  },
  {
   "cell_type": "code",
   "execution_count": 28,
   "id": "9a612f5c-8b20-49a2-8667-7fb4b13fcdba",
   "metadata": {},
   "outputs": [
    {
     "data": {
      "text/plain": [
       "<tf.Tensor: shape=(3, 3), dtype=int32, numpy=\n",
       "array([[0, 3, 6],\n",
       "       [1, 4, 7],\n",
       "       [2, 5, 8]], dtype=int32)>"
      ]
     },
     "execution_count": 28,
     "metadata": {},
     "output_type": "execute_result"
    }
   ],
   "source": [
    "y = tf.transpose(y, perm=[1,0])\n",
    "y"
   ]
  },
  {
   "cell_type": "markdown",
   "id": "74967a7c-90c2-494e-893c-08a83f4a73ef",
   "metadata": {},
   "source": [
    "## Handwritten digit classification using TensorFlow and MNIST dataset\n"
   ]
  },
  {
   "cell_type": "code",
   "execution_count": 29,
   "id": "feb76c0a-e253-405f-87ce-e49801350d0e",
   "metadata": {},
   "outputs": [],
   "source": [
    "from tensorflow import keras"
   ]
  },
  {
   "cell_type": "code",
   "execution_count": 30,
   "id": "19d5ecff-668f-44bd-a40c-4ad79ed49151",
   "metadata": {},
   "outputs": [],
   "source": [
    "#loading the dataset from keras\n",
    "(x_train, y_train), (x_test, y_test) = keras.datasets.mnist.load_data()"
   ]
  },
  {
   "cell_type": "code",
   "execution_count": 31,
   "id": "c5026940-4261-481a-a861-1cc025c5a5f4",
   "metadata": {},
   "outputs": [
    {
     "name": "stdout",
     "output_type": "stream",
     "text": [
      "Shape of x_train (60000, 28, 28)\n",
      "Shpae of y_train (60000,)\n",
      "Shape of x_test (10000, 28, 28)\n",
      "Shape of y_test (10000,)\n"
     ]
    }
   ],
   "source": [
    "print(\"Shape of x_train\", x_train.shape)\n",
    "print(\"Shpae of y_train\", y_train.shape)\n",
    "print(\"Shape of x_test\", x_test.shape)\n",
    "print(\"Shape of y_test\", y_test.shape)"
   ]
  },
  {
   "cell_type": "code",
   "execution_count": 32,
   "id": "2c4089a0-e26c-43b5-a9e4-0b06a4dd8a11",
   "metadata": {},
   "outputs": [],
   "source": [
    "import matplotlib.pyplot as plt"
   ]
  },
  {
   "cell_type": "code",
   "execution_count": 33,
   "id": "b82db2c1-00bc-4387-9afe-f32edb88333d",
   "metadata": {},
   "outputs": [
    {
     "name": "stdout",
     "output_type": "stream",
     "text": [
      "5\n"
     ]
    },
    {
     "data": {
      "image/png": "[encoded data removed]",
      "text/plain": [
       "<Figure size 640x480 with 1 Axes>"
      ]
     },
     "metadata": {},
     "output_type": "display_data"
    }
   ],
   "source": [
    "#plotting the first training data\n",
    "index = 0\n",
    "plt.imshow(x_train[index], cmap=\"Greys\")\n",
    "print(y_train[index])"
   ]
  },
  {
   "cell_type": "code",
   "execution_count": 34,
   "id": "e2576b86-1954-4563-bce4-9efe1b26ba80",
   "metadata": {},
   "outputs": [],
   "source": [
    "x_train = x_train.reshape(-1, 28*28).astype(\"float32\") / 255.0\n",
    "x_test = x_test.reshape(-1, 28*28).astype(\"float32\") / 255.0\n",
    "y_train = y_train.astype(\"int32\")\n",
    "y_test = y_test.astype(\"int32\")"
   ]
  },
  {
   "cell_type": "code",
   "execution_count": 35,
   "id": "adb21448-ac6e-4742-89a1-a0aefd09b294",
   "metadata": {},
   "outputs": [],
   "source": [
    "num_input = 28*28\n",
    "num_hidden1 = 512\n",
    "num_hidden2 = 256\n",
    "num_hidden3 = 128\n",
    "num_output = 10"
   ]
  },
  {
   "cell_type": "code",
   "execution_count": 36,
   "id": "c8e95bec-a6b6-48a3-8571-943333e06217",
   "metadata": {},
   "outputs": [
    {
     "data": {
      "text/plain": [
       "(TensorShape([784, 512]),\n",
       " TensorShape([512, 256]),\n",
       " TensorShape([256, 128]),\n",
       " TensorShape([128, 10]))"
      ]
     },
     "execution_count": 36,
     "metadata": {},
     "output_type": "execute_result"
    }
   ],
   "source": [
    "W1 = tf.Variable(tf.random.normal((num_input, num_hidden1)), name=\"W1\")\n",
    "b1 = tf.Variable(tf.zeros((num_hidden1)), name=\"b1\")\n",
    "\n",
    "W2 = tf.Variable(tf.random.normal((num_hidden1, num_hidden2)), name=\"W2\")\n",
    "b2 = tf.Variable(tf.zeros(num_hidden2), name=\"b2\")\n",
    "\n",
    "W3 = tf.Variable(tf.random.normal((num_hidden2, num_hidden3)), name=\"W3\")\n",
    "b3 = tf.Variable(tf.zeros(num_hidden3), name=\"b3\")\n",
    "\n",
    "W4 = tf.Variable(tf.random.normal((num_hidden3, num_output)), name=\"W4\")\n",
    "b4 = tf.Variable(tf.zeros(num_output), name=\"b4\")\n",
    "\n",
    "W1.shape, W2.shape, W3.shape, W4.shape"
   ]
  },
  {
   "cell_type": "code",
   "execution_count": 37,
   "id": "5ba70d56-e812-4e60-9677-d56917313577",
   "metadata": {},
   "outputs": [],
   "source": [
    "def forward_pass(input_x):\n",
    "    first_layer = tf.matmul(input_x, W1) + b1\n",
    "    first_layer = tf.nn.relu(first_layer)\n",
    "\n",
    "    second_layer = tf.matmul(first_layer, W2) + b2\n",
    "    second_layer = tf.nn.relu(second_layer)\n",
    "\n",
    "    third_layer = tf.matmul(second_layer, W3) + b3\n",
    "    third_layer = tf.nn.relu(third_layer)\n",
    "\n",
    "    output_layer = tf.matmul(third_layer, W4) + b4\n",
    "    \n",
    "    return output_layer"
   ]
  },
  {
   "cell_type": "code",
   "execution_count": 38,
   "id": "25f634ac-b11b-4bde-81c4-900b07dfcf0f",
   "metadata": {},
   "outputs": [],
   "source": [
    "def compute_loss(logits, labels):\n",
    "    return tf.reduce_mean(tf.nn.sparse_softmax_cross_entropy_with_logits(logits=logits, labels=labels))"
   ]
  },
  {
   "cell_type": "code",
   "execution_count": 39,
   "id": "8ba96622-5070-475e-a229-393265f44c22",
   "metadata": {},
   "outputs": [],
   "source": [
    "learning_rate = 0.001\n",
    "optimizer = tf.optimizers.Adam(learning_rate)"
   ]
  },
  {
   "cell_type": "code",
   "execution_count": 40,
   "id": "b709622d-4934-47af-a09b-76b5d361466d",
   "metadata": {},
   "outputs": [],
   "source": [
    "def train(train_x, train_y, epochs = 5, batch_size = 32):\n",
    "    train_dataset = tf.data.Dataset.from_tensor_slices((train_x, train_y)).batch(batch_size)\n",
    "    for epoch in range(epochs):\n",
    "        for batch_x, batch_y in train_dataset:\n",
    "            with tf.GradientTape() as tape:\n",
    "                logits = forward_pass(batch_x)\n",
    "                loss = compute_loss(logits, batch_y)\n",
    "            gradients = tape.gradient(loss, [W1, b1, W2,b2, W3,b3, W4,b4])\n",
    "            optimizer.apply_gradients(zip(gradients,[W1, b1, W2,b2, W3,b3, W4,b4]) )\n",
    "            # if epoch % 10 == 0:\n",
    "        print(f'Epoch {epoch}, Loss: {loss.numpy()}')\n"
   ]
  },
  {
   "cell_type": "code",
   "execution_count": 41,
   "id": "d1f45f30-6c72-4ea0-b1d5-ad355890d15b",
   "metadata": {},
   "outputs": [],
   "source": [
    "# logits = forward_pass(x_train.reshape(-1, 28*28))\n",
    "# print(logits.shape)\n",
    "# print(y_train.shape )\n",
    "# compute_loss(logits, y_train)"
   ]
  },
  {
   "cell_type": "code",
   "execution_count": 42,
   "id": "0cd9a5eb-413a-4b15-a782-5fb4e5350d11",
   "metadata": {
    "scrolled": true
   },
   "outputs": [
    {
     "name": "stderr",
     "output_type": "stream",
     "text": [
      "2024-09-24 16:20:34.335119: I tensorflow/core/framework/local_rendezvous.cc:404] Local rendezvous is aborting with status: OUT_OF_RANGE: End of sequence\n"
     ]
    },
    {
     "name": "stdout",
     "output_type": "stream",
     "text": [
      "Epoch 0, Loss: 9.886993408203125\n"
     ]
    },
    {
     "name": "stderr",
     "output_type": "stream",
     "text": [
      "2024-09-24 16:20:53.488797: I tensorflow/core/framework/local_rendezvous.cc:404] Local rendezvous is aborting with status: OUT_OF_RANGE: End of sequence\n"
     ]
    },
    {
     "name": "stdout",
     "output_type": "stream",
     "text": [
      "Epoch 1, Loss: 10.354400634765625\n",
      "Epoch 2, Loss: 35.66731262207031\n"
     ]
    },
    {
     "name": "stderr",
     "output_type": "stream",
     "text": [
      "2024-09-24 16:21:32.426659: I tensorflow/core/framework/local_rendezvous.cc:404] Local rendezvous is aborting with status: OUT_OF_RANGE: End of sequence\n"
     ]
    },
    {
     "name": "stdout",
     "output_type": "stream",
     "text": [
      "Epoch 3, Loss: 0.0\n",
      "Epoch 4, Loss: 4.256103515625\n"
     ]
    }
   ],
   "source": [
    "train(x_train, y_train,5, 32)"
   ]
  },
  {
   "cell_type": "code",
   "execution_count": 43,
   "id": "5eb02247-f200-4cef-b43f-f5df37ff383d",
   "metadata": {},
   "outputs": [
    {
     "name": "stdout",
     "output_type": "stream",
     "text": [
      "tf.Tensor(\n",
      "[[-5562.9863   7753.0244   6856.3257   6409.2725    857.77673  -820.3107\n",
      "   1341.8143   9513.57     4665.017    2608.8784 ]], shape=(1, 10), dtype=float32)\n"
     ]
    },
    {
     "data": {
      "text/plain": [
       "<tf.Tensor: shape=(), dtype=float32, numpy=0.0>"
      ]
     },
     "execution_count": 43,
     "metadata": {},
     "output_type": "execute_result"
    }
   ],
   "source": [
    "index = 111\n",
    "logits = forward_pass(x_test[index].reshape(-1, 28*28))\n",
    "predictions = tf.nn.softmax(logits)\n",
    "print(logits)\n",
    "compute_loss(logits, y_test[index].reshape(1,))"
   ]
  },
  {
   "cell_type": "code",
   "execution_count": 44,
   "id": "c87c7487-ebcb-4ed9-a2cf-b6a6c55ce2c4",
   "metadata": {},
   "outputs": [
    {
     "name": "stdout",
     "output_type": "stream",
     "text": [
      "predicted 7, actual 7\n"
     ]
    }
   ],
   "source": [
    "predicted_classes = tf.argmax(predictions, axis=1)\n",
    "print(f\"predicted {predicted_classes[0]}, actual {y_test[index]}\")"
   ]
  },
  {
   "cell_type": "markdown",
   "id": "4cf665a5-65c7-41fa-bf18-f88d4a03dc21",
   "metadata": {},
   "source": [
    "## Building Neural Network Using Keras API"
   ]
  },
  {
   "cell_type": "code",
   "execution_count": 45,
   "id": "9ec9b661-aafd-4d8b-b809-1dc35967fffe",
   "metadata": {},
   "outputs": [],
   "source": [
    "from tensorflow import keras"
   ]
  },
  {
   "cell_type": "code",
   "execution_count": 46,
   "id": "0d6fb2ce-6bae-431b-903e-28aacd1eb1fa",
   "metadata": {},
   "outputs": [
    {
     "data": {
      "text/plain": [
       "((60000, 28, 28), (60000,), (10000, 28, 28), (10000,))"
      ]
     },
     "execution_count": 46,
     "metadata": {},
     "output_type": "execute_result"
    }
   ],
   "source": [
    "(x_train, y_train), (x_test, y_test) = keras.datasets.mnist.load_data()\n",
    "x_train.shape, y_train.shape, x_test.shape, y_test.shape"
   ]
  },
  {
   "cell_type": "code",
   "execution_count": 47,
   "id": "588c9b23-799d-4d1d-9123-2165ced6e23a",
   "metadata": {},
   "outputs": [],
   "source": [
    "x_train = tf.reshape(x_train, (-1, 28*28))\n",
    "x_test = tf.reshape(x_test, (-1, 28*28))"
   ]
  },
  {
   "cell_type": "code",
   "execution_count": 48,
   "id": "439cdf83-7ef7-4b5a-b38b-1b7919b138a6",
   "metadata": {},
   "outputs": [],
   "source": [
    "num_input = 28*28\n",
    "num_hidden1 = 512\n",
    "num_hidden2 = 256\n",
    "num_hidden3 = 128\n",
    "num_output = 10"
   ]
  },
  {
   "cell_type": "code",
   "execution_count": 49,
   "id": "ba0397e1-3fee-4ff0-affd-65f5edbebd05",
   "metadata": {},
   "outputs": [],
   "source": [
    "model = keras.Sequential()"
   ]
  },
  {
   "cell_type": "code",
   "execution_count": 50,
   "id": "cc2cd9ea-3e0f-4dcb-bdbd-4217c6bf5644",
   "metadata": {},
   "outputs": [],
   "source": [
    "model.add(keras.Input(shape=(28*28,)))\n",
    "model.add(keras.layers.Dense(num_hidden1, activation=\"relu\"))\n",
    "model.add(keras.layers.Dense(num_hidden2, activation=\"relu\"))\n",
    "model.add(keras.layers.Dense(num_hidden3, activation=\"relu\"))\n",
    "model.add(keras.layers.Dense(num_output)) # by default activation is linear i.e simply the weighted sum + bias"
   ]
  },
  {
   "cell_type": "code",
   "execution_count": 51,
   "id": "a9349913-d7f0-4eae-bdb0-5aaa2e3772c3",
   "metadata": {},
   "outputs": [
    {
     "data": {
      "text/html": [
       "<pre style=\"white-space:pre;overflow-x:auto;line-height:normal;font-family:Menlo,'DejaVu Sans Mono',consolas,'Courier New',monospace\"><span style=\"font-weight: bold\">Model: \"sequential\"</span>\n",
       "</pre>\n"
      ],
      "text/plain": [
       "\u001b[1mModel: \"sequential\"\u001b[0m\n"
      ]
     },
     "metadata": {},
     "output_type": "display_data"
    },
    {
     "data": {
      "text/html": [
       "<pre style=\"white-space:pre;overflow-x:auto;line-height:normal;font-family:Menlo,'DejaVu Sans Mono',consolas,'Courier New',monospace\">┏━━━━━━━━━━━━━━━━━━━━━━━━━━━━━━━━━┳━━━━━━━━━━━━━━━━━━━━━━━━┳━━━━━━━━━━━━━━━┓\n",
       "┃<span style=\"font-weight: bold\"> Layer (type)                    </span>┃<span style=\"font-weight: bold\"> Output Shape           </span>┃<span style=\"font-weight: bold\">       Param # </span>┃\n",
       "┡━━━━━━━━━━━━━━━━━━━━━━━━━━━━━━━━━╇━━━━━━━━━━━━━━━━━━━━━━━━╇━━━━━━━━━━━━━━━┩\n",
       "│ dense (<span style=\"color: #0087ff; text-decoration-color: #0087ff\">Dense</span>)                   │ (<span style=\"color: #00d7ff; text-decoration-color: #00d7ff\">None</span>, <span style=\"color: #00af00; text-decoration-color: #00af00\">512</span>)            │       <span style=\"color: #00af00; text-decoration-color: #00af00\">401,920</span> │\n",
       "├─────────────────────────────────┼────────────────────────┼───────────────┤\n",
       "│ dense_1 (<span style=\"color: #0087ff; text-decoration-color: #0087ff\">Dense</span>)                 │ (<span style=\"color: #00d7ff; text-decoration-color: #00d7ff\">None</span>, <span style=\"color: #00af00; text-decoration-color: #00af00\">256</span>)            │       <span style=\"color: #00af00; text-decoration-color: #00af00\">131,328</span> │\n",
       "├─────────────────────────────────┼────────────────────────┼───────────────┤\n",
       "│ dense_2 (<span style=\"color: #0087ff; text-decoration-color: #0087ff\">Dense</span>)                 │ (<span style=\"color: #00d7ff; text-decoration-color: #00d7ff\">None</span>, <span style=\"color: #00af00; text-decoration-color: #00af00\">128</span>)            │        <span style=\"color: #00af00; text-decoration-color: #00af00\">32,896</span> │\n",
       "├─────────────────────────────────┼────────────────────────┼───────────────┤\n",
       "│ dense_3 (<span style=\"color: #0087ff; text-decoration-color: #0087ff\">Dense</span>)                 │ (<span style=\"color: #00d7ff; text-decoration-color: #00d7ff\">None</span>, <span style=\"color: #00af00; text-decoration-color: #00af00\">10</span>)             │         <span style=\"color: #00af00; text-decoration-color: #00af00\">1,290</span> │\n",
       "└─────────────────────────────────┴────────────────────────┴───────────────┘\n",
       "</pre>\n"
      ],
      "text/plain": [
       "┏━━━━━━━━━━━━━━━━━━━━━━━━━━━━━━━━━┳━━━━━━━━━━━━━━━━━━━━━━━━┳━━━━━━━━━━━━━━━┓\n",
       "┃\u001b[1m \u001b[0m\u001b[1mLayer (type)                   \u001b[0m\u001b[1m \u001b[0m┃\u001b[1m \u001b[0m\u001b[1mOutput Shape          \u001b[0m\u001b[1m \u001b[0m┃\u001b[1m \u001b[0m\u001b[1m      Param #\u001b[0m\u001b[1m \u001b[0m┃\n",
       "┡━━━━━━━━━━━━━━━━━━━━━━━━━━━━━━━━━╇━━━━━━━━━━━━━━━━━━━━━━━━╇━━━━━━━━━━━━━━━┩\n",
       "│ dense (\u001b[38;5;33mDense\u001b[0m)                   │ (\u001b[38;5;45mNone\u001b[0m, \u001b[38;5;34m512\u001b[0m)            │       \u001b[38;5;34m401,920\u001b[0m │\n",
       "├─────────────────────────────────┼────────────────────────┼───────────────┤\n",
       "│ dense_1 (\u001b[38;5;33mDense\u001b[0m)                 │ (\u001b[38;5;45mNone\u001b[0m, \u001b[38;5;34m256\u001b[0m)            │       \u001b[38;5;34m131,328\u001b[0m │\n",
       "├─────────────────────────────────┼────────────────────────┼───────────────┤\n",
       "│ dense_2 (\u001b[38;5;33mDense\u001b[0m)                 │ (\u001b[38;5;45mNone\u001b[0m, \u001b[38;5;34m128\u001b[0m)            │        \u001b[38;5;34m32,896\u001b[0m │\n",
       "├─────────────────────────────────┼────────────────────────┼───────────────┤\n",
       "│ dense_3 (\u001b[38;5;33mDense\u001b[0m)                 │ (\u001b[38;5;45mNone\u001b[0m, \u001b[38;5;34m10\u001b[0m)             │         \u001b[38;5;34m1,290\u001b[0m │\n",
       "└─────────────────────────────────┴────────────────────────┴───────────────┘\n"
      ]
     },
     "metadata": {},
     "output_type": "display_data"
    },
    {
     "data": {
      "text/html": [
       "<pre style=\"white-space:pre;overflow-x:auto;line-height:normal;font-family:Menlo,'DejaVu Sans Mono',consolas,'Courier New',monospace\"><span style=\"font-weight: bold\"> Total params: </span><span style=\"color: #00af00; text-decoration-color: #00af00\">567,434</span> (2.16 MB)\n",
       "</pre>\n"
      ],
      "text/plain": [
       "\u001b[1m Total params: \u001b[0m\u001b[38;5;34m567,434\u001b[0m (2.16 MB)\n"
      ]
     },
     "metadata": {},
     "output_type": "display_data"
    },
    {
     "data": {
      "text/html": [
       "<pre style=\"white-space:pre;overflow-x:auto;line-height:normal;font-family:Menlo,'DejaVu Sans Mono',consolas,'Courier New',monospace\"><span style=\"font-weight: bold\"> Trainable params: </span><span style=\"color: #00af00; text-decoration-color: #00af00\">567,434</span> (2.16 MB)\n",
       "</pre>\n"
      ],
      "text/plain": [
       "\u001b[1m Trainable params: \u001b[0m\u001b[38;5;34m567,434\u001b[0m (2.16 MB)\n"
      ]
     },
     "metadata": {},
     "output_type": "display_data"
    },
    {
     "data": {
      "text/html": [
       "<pre style=\"white-space:pre;overflow-x:auto;line-height:normal;font-family:Menlo,'DejaVu Sans Mono',consolas,'Courier New',monospace\"><span style=\"font-weight: bold\"> Non-trainable params: </span><span style=\"color: #00af00; text-decoration-color: #00af00\">0</span> (0.00 B)\n",
       "</pre>\n"
      ],
      "text/plain": [
       "\u001b[1m Non-trainable params: \u001b[0m\u001b[38;5;34m0\u001b[0m (0.00 B)\n"
      ]
     },
     "metadata": {},
     "output_type": "display_data"
    },
    {
     "name": "stdout",
     "output_type": "stream",
     "text": [
      "None\n"
     ]
    }
   ],
   "source": [
    "print(model.summary())"
   ]
  },
  {
   "cell_type": "code",
   "execution_count": 52,
   "id": "ee24a319-6aa8-425b-b6b7-4f5b4866ab7d",
   "metadata": {},
   "outputs": [],
   "source": [
    "model.compile(\n",
    "    loss= keras.losses.SparseCategoricalCrossentropy(from_logits=True),\n",
    "    # optimizer = keras.optimizers.Adam(0.001),\n",
    "    optimizer = keras.optimizers.SGD(0.001),\n",
    "    metrics=[\"accuracy\"]\n",
    ")"
   ]
  },
  {
   "cell_type": "code",
   "execution_count": null,
   "id": "1950b2d5-9ff0-4200-92b3-3d9c96c469c4",
   "metadata": {},
   "outputs": [],
   "source": []
  },
  {
   "cell_type": "code",
   "execution_count": 53,
   "id": "93df06d5-2fb9-448b-a9d7-8c7176bf40d1",
   "metadata": {},
   "outputs": [
    {
     "name": "stdout",
     "output_type": "stream",
     "text": [
      "Epoch 1/5\n",
      "1875/1875 - 2s - 981us/step - accuracy: 0.8768 - loss: 0.9229\n",
      "Epoch 2/5\n",
      "1875/1875 - 2s - 935us/step - accuracy: 0.9441 - loss: 0.1939\n",
      "Epoch 3/5\n",
      "1875/1875 - 2s - 947us/step - accuracy: 0.9611 - loss: 0.1277\n",
      "Epoch 4/5\n",
      "1875/1875 - 2s - 932us/step - accuracy: 0.9711 - loss: 0.0956\n",
      "Epoch 5/5\n",
      "1875/1875 - 2s - 949us/step - accuracy: 0.9784 - loss: 0.0715\n"
     ]
    },
    {
     "data": {
      "text/plain": [
       "<keras.src.callbacks.history.History at 0x16b5b29d0>"
      ]
     },
     "execution_count": 53,
     "metadata": {},
     "output_type": "execute_result"
    }
   ],
   "source": [
    "model.fit(x_train, y_train, batch_size=32, epochs=5, verbose = 2)"
   ]
  },
  {
   "cell_type": "code",
   "execution_count": 54,
   "id": "9920d557-d7f9-4eea-9cb0-6c21bd4f0f79",
   "metadata": {},
   "outputs": [
    {
     "name": "stdout",
     "output_type": "stream",
     "text": [
      "313/313 - 0s - 596us/step - accuracy: 0.9512 - loss: 0.2003\n"
     ]
    },
    {
     "data": {
      "text/plain": [
       "[0.20026008784770966, 0.951200008392334]"
      ]
     },
     "execution_count": 54,
     "metadata": {},
     "output_type": "execute_result"
    }
   ],
   "source": [
    "model.evaluate(x_test, y_test, batch_size=32, verbose = 2)"
   ]
  },
  {
   "cell_type": "code",
   "execution_count": 55,
   "id": "909012d0-c9c2-4df5-a84a-f609abf4982a",
   "metadata": {},
   "outputs": [],
   "source": [
    "start_index = 2000\n",
    "end_index = 4000\n",
    "test  = tf.reshape(x_test[start_index:end_index], (-1, 28*28))"
   ]
  },
  {
   "cell_type": "code",
   "execution_count": 56,
   "id": "d8c17671-3d77-44cc-b10a-916c10731c11",
   "metadata": {},
   "outputs": [
    {
     "name": "stdout",
     "output_type": "stream",
     "text": [
      "\u001b[1m63/63\u001b[0m \u001b[32m━━━━━━━━━━━━━━━━━━━━\u001b[0m\u001b[37m\u001b[0m \u001b[1m0s\u001b[0m 672us/step\n",
      "predicted - [6 5 6 ... 7 4 9], actual - [6 5 6 ... 7 4 9]\n"
     ]
    }
   ],
   "source": [
    "predicted = tf.argmax(model.predict(test), axis=1)\n",
    "print(f\"predicted - {predicted.numpy()}, actual - {y_test[start_index:end_index]}\")"
   ]
  },
  {
   "cell_type": "code",
   "execution_count": null,
   "id": "9857345f-c953-4344-83bd-51beaebb3a31",
   "metadata": {},
   "outputs": [],
   "source": []
  }
 ],
 "metadata": {
  "kernelspec": {
   "display_name": "Python 3 (ipykernel)",
   "language": "python",
   "name": "python3"
  },
  "language_info": {
   "codemirror_mode": {
    "name": "ipython",
    "version": 3
   },
   "file_extension": ".py",
   "mimetype": "text/x-python",
   "name": "python",
   "nbconvert_exporter": "python",
   "pygments_lexer": "ipython3",
   "version": "3.11.10"
  }
 },
 "nbformat": 4,
 "nbformat_minor": 5
}

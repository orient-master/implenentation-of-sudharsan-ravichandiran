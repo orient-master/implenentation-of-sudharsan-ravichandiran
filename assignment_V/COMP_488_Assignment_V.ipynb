{
 "cells": [
  {
   "cell_type": "markdown",
   "metadata": {},
   "source": [
    "# Getting to learn Long Short-Term Memory"
   ]
  },
  {
   "cell_type": "markdown",
   "metadata": {},
   "source": [
    "A particular *LSTM* Cell consists of 3 gates that are responsible for deciding what things to forget or remember(from the memory) i.e. information for a sequential data. With these gates, an LSTM Cell effectively keeps information in the memory as long as required."
   ]
  },
  {
   "cell_type": "markdown",
   "metadata": {},
   "source": [
    "# Predicting Bitcoin prices using LSTM model"
   ]
  },
  {
   "cell_type": "code",
   "execution_count": 1,
   "metadata": {},
   "outputs": [],
   "source": [
    "import numpy as np\n",
    "import pandas as pd\n",
    "from sklearn.preprocessing import StandardScaler\n",
    "import matplotlib.pyplot as plt\n",
    "\n",
    "%matplotlib inline\n",
    "plt.style.use('ggplot')\n",
    "\n",
    "import tensorflow as tf\n",
    "import logging\n",
    "logging.getLogger('tensorflow').setLevel(logging.ERROR)\n",
    "\n",
    "import warnings\n",
    "warnings.filterwarnings('ignore')\n"
   ]
  },
  {
   "cell_type": "markdown",
   "metadata": {},
   "source": [
    "## Data preparation"
   ]
  },
  {
   "cell_type": "code",
   "execution_count": 2,
   "metadata": {},
   "outputs": [
    {
     "data": {
      "text/html": [
       "<div>\n",
       "<style scoped>\n",
       "    .dataframe tbody tr th:only-of-type {\n",
       "        vertical-align: middle;\n",
       "    }\n",
       "\n",
       "    .dataframe tbody tr th {\n",
       "        vertical-align: top;\n",
       "    }\n",
       "\n",
       "    .dataframe thead th {\n",
       "        text-align: right;\n",
       "    }\n",
       "</style>\n",
       "<table border=\"1\" class=\"dataframe\">\n",
       "  <thead>\n",
       "    <tr style=\"text-align: right;\">\n",
       "      <th></th>\n",
       "      <th>Date</th>\n",
       "      <th>Symbol</th>\n",
       "      <th>Open</th>\n",
       "      <th>High</th>\n",
       "      <th>Low</th>\n",
       "      <th>Close</th>\n",
       "      <th>Volume From</th>\n",
       "      <th>Volume To</th>\n",
       "    </tr>\n",
       "  </thead>\n",
       "  <tbody>\n",
       "    <tr>\n",
       "      <th>0</th>\n",
       "      <td>5/26/2018</td>\n",
       "      <td>BTCUSD</td>\n",
       "      <td>7459.11</td>\n",
       "      <td>7640.46</td>\n",
       "      <td>7380.00</td>\n",
       "      <td>7520.00</td>\n",
       "      <td>2722.80</td>\n",
       "      <td>2.042265e+07</td>\n",
       "    </tr>\n",
       "    <tr>\n",
       "      <th>1</th>\n",
       "      <td>5/25/2018</td>\n",
       "      <td>BTCUSD</td>\n",
       "      <td>7584.15</td>\n",
       "      <td>7661.85</td>\n",
       "      <td>7326.94</td>\n",
       "      <td>7459.11</td>\n",
       "      <td>8491.93</td>\n",
       "      <td>6.342069e+07</td>\n",
       "    </tr>\n",
       "    <tr>\n",
       "      <th>2</th>\n",
       "      <td>5/24/2018</td>\n",
       "      <td>BTCUSD</td>\n",
       "      <td>7505.00</td>\n",
       "      <td>7734.99</td>\n",
       "      <td>7269.00</td>\n",
       "      <td>7584.15</td>\n",
       "      <td>11033.72</td>\n",
       "      <td>8.293137e+07</td>\n",
       "    </tr>\n",
       "    <tr>\n",
       "      <th>3</th>\n",
       "      <td>5/23/2018</td>\n",
       "      <td>BTCUSD</td>\n",
       "      <td>7987.70</td>\n",
       "      <td>8030.00</td>\n",
       "      <td>7433.19</td>\n",
       "      <td>7505.00</td>\n",
       "      <td>14905.99</td>\n",
       "      <td>1.148104e+08</td>\n",
       "    </tr>\n",
       "    <tr>\n",
       "      <th>4</th>\n",
       "      <td>5/22/2018</td>\n",
       "      <td>BTCUSD</td>\n",
       "      <td>8393.44</td>\n",
       "      <td>8400.00</td>\n",
       "      <td>7950.00</td>\n",
       "      <td>7987.70</td>\n",
       "      <td>6589.43</td>\n",
       "      <td>5.389753e+07</td>\n",
       "    </tr>\n",
       "  </tbody>\n",
       "</table>\n",
       "</div>"
      ],
      "text/plain": [
       "        Date  Symbol     Open     High      Low    Close  Volume From  \\\n",
       "0  5/26/2018  BTCUSD  7459.11  7640.46  7380.00  7520.00      2722.80   \n",
       "1  5/25/2018  BTCUSD  7584.15  7661.85  7326.94  7459.11      8491.93   \n",
       "2  5/24/2018  BTCUSD  7505.00  7734.99  7269.00  7584.15     11033.72   \n",
       "3  5/23/2018  BTCUSD  7987.70  8030.00  7433.19  7505.00     14905.99   \n",
       "4  5/22/2018  BTCUSD  8393.44  8400.00  7950.00  7987.70      6589.43   \n",
       "\n",
       "      Volume To  \n",
       "0  2.042265e+07  \n",
       "1  6.342069e+07  \n",
       "2  8.293137e+07  \n",
       "3  1.148104e+08  \n",
       "4  5.389753e+07  "
      ]
     },
     "execution_count": 2,
     "metadata": {},
     "output_type": "execute_result"
    }
   ],
   "source": [
    "df = pd.read_csv(\"data/btc.csv\")\n",
    "df.head()"
   ]
  },
  {
   "cell_type": "code",
   "execution_count": 3,
   "metadata": {},
   "outputs": [
    {
     "data": {
      "image/png": "[encoded data removed]",
      "text/plain": [
       "<Figure size 640x480 with 1 Axes>"
      ]
     },
     "metadata": {},
     "output_type": "display_data"
    },
    {
     "name": "stdout",
     "output_type": "stream",
     "text": [
      "(1000, 7, 1)\n"
     ]
    }
   ],
   "source": [
    "data = df[\"Close\"].values\n",
    "\n",
    "# Standardize the data\n",
    "scaler = StandardScaler()\n",
    "data = scaler.fit_transform(data.reshape(-1, 1))\n",
    "\n",
    "# Plot the data\n",
    "plt.plot(data)\n",
    "plt.xlabel(\"Days\")\n",
    "plt.ylabel(\"Price\")\n",
    "plt.grid()\n",
    "plt.show()\n",
    "\n",
    "\n",
    "# Define the get_data function\n",
    "def get_data(data, window_size):\n",
    "    X = []\n",
    "    y = []\n",
    "    i = 0\n",
    "    while (i + window_size) <= len(data) - 1:\n",
    "        X.append(data[i : i + window_size])\n",
    "        y.append(data[i + window_size])\n",
    "        i += 1\n",
    "    assert len(X) == len(y)\n",
    "    return X, y\n",
    "\n",
    "\n",
    "X, y = get_data(data, window_size=7)\n",
    "\n",
    "X_train = np.array(X[:1000])\n",
    "y_train = np.array(y[:1000])\n",
    "X_test = np.array(X[1000:])\n",
    "y_test = np.array(y[1000:])\n",
    "\n",
    "print(X_train.shape)"
   ]
  },
  {
   "cell_type": "markdown",
   "metadata": {},
   "source": [
    "## Defining the parameters"
   ]
  },
  {
   "cell_type": "code",
   "execution_count": 4,
   "metadata": {},
   "outputs": [],
   "source": [
    "import tensorflow as tf\n",
    "\n",
    "# Define network parameters\n",
    "batch_size = 7\n",
    "window_size = 7\n",
    "hidden_layer = 256\n",
    "learning_rate = 0.001\n",
    "\n",
    "tf.compat.v1.disable_eager_execution()\n",
    "\n",
    "# Define placeholders for input and output\n",
    "input = tf.compat.v1.placeholder(tf.float32, [batch_size, window_size, 1])\n",
    "target = tf.compat.v1.placeholder(tf.float32, [batch_size, 1])\n",
    "\n",
    "# Define weights for LSTM gates\n",
    "\n",
    "# Weights for input gate\n",
    "U_i = tf.Variable(tf.random.truncated_normal([1, hidden_layer], stddev=0.05))\n",
    "W_i = tf.Variable(tf.random.truncated_normal([hidden_layer, hidden_layer], stddev=0.05))\n",
    "b_i = tf.Variable(tf.zeros([hidden_layer]))\n",
    "\n",
    "# Weights for forget gate\n",
    "U_f = tf.Variable(tf.random.truncated_normal([1, hidden_layer], stddev=0.05))\n",
    "W_f = tf.Variable(tf.random.truncated_normal([hidden_layer, hidden_layer], stddev=0.05))\n",
    "b_f = tf.Variable(tf.zeros([hidden_layer]))\n",
    "\n",
    "# Weights for output gate\n",
    "U_o = tf.Variable(tf.random.truncated_normal([1, hidden_layer], stddev=0.05))\n",
    "W_o = tf.Variable(tf.random.truncated_normal([hidden_layer, hidden_layer], stddev=0.05))\n",
    "b_o = tf.Variable(tf.zeros([hidden_layer]))\n",
    "\n",
    "# Weights for candidate state\n",
    "U_g = tf.Variable(tf.random.truncated_normal([1, hidden_layer], stddev=0.05))\n",
    "W_g = tf.Variable(tf.random.truncated_normal([hidden_layer, hidden_layer], stddev=0.05))\n",
    "b_g = tf.Variable(tf.zeros([hidden_layer]))\n",
    "\n",
    "# Output layer weights\n",
    "V = tf.Variable(tf.random.truncated_normal([hidden_layer, 1], stddev=0.05))\n",
    "b_v = tf.Variable(tf.zeros([1]))"
   ]
  },
  {
   "cell_type": "code",
   "execution_count": 5,
   "metadata": {},
   "outputs": [],
   "source": [
    "def LSTM_cell(input, prev_hidden_state, prev_cell_state):\n",
    "    # Input gate\n",
    "    it = tf.sigmoid(tf.matmul(input, U_i) + tf.matmul(prev_hidden_state, W_i) + b_i)\n",
    "\n",
    "    # Forget gate\n",
    "    ft = tf.sigmoid(tf.matmul(input, U_f) + tf.matmul(prev_hidden_state, W_f) + b_f)\n",
    "\n",
    "    # Output gate\n",
    "    ot = tf.sigmoid(tf.matmul(input, U_o) + tf.matmul(prev_hidden_state, W_o) + b_o)\n",
    "\n",
    "    # Candidate state\n",
    "    gt = tf.tanh(tf.matmul(input, U_g) + tf.matmul(prev_hidden_state, W_g) + b_g)\n",
    "\n",
    "    # Cell state update\n",
    "    ct = (prev_cell_state * ft) + (it * gt)\n",
    "\n",
    "    # Hidden state (output)\n",
    "    ht = ot * tf.tanh(ct)\n",
    "\n",
    "    return ct, ht"
   ]
  },
  {
   "cell_type": "markdown",
   "metadata": {},
   "source": [
    "## Defining forward propagation\n",
    "\n"
   ]
  },
  {
   "cell_type": "markdown",
   "metadata": {},
   "source": [
    "The forward run in any LSTM looks like the following : \n",
    "\n",
    "1. Input gate: $i_t = \\sigma{(U_i x_t + W_f h_{t-1} + b_i)}$\n",
    "2. Forget gate: $f_t = \\sigma{(U_f x_t + W_f h_{t-1} + b_f)}$\n",
    "3. Output gate: $o_t = \\sigma{(U_o x_t + W_o h_{t-1} + b_o)}$ \n",
    "4. Candidate state: $g_t = tanh(U_g x_t + W_g h_{t-1} + b_g)$\n",
    "5. Cell state: $c_t = f_t c_{t-1} + i_t g_t$\n",
    "6. Hidden state: $h_t = o_t tanh(c_t)$\n",
    "7. Output: $\\hat{y}_t = softmax(Vh_t)$"
   ]
  },
  {
   "cell_type": "code",
   "execution_count": 6,
   "metadata": {},
   "outputs": [],
   "source": [
    "# Initialize the list for storing the output\n",
    "y_hat = []\n",
    "\n",
    "\n",
    "for i in range(batch_size):\n",
    "\n",
    "    hidden_state = np.zeros([1, hidden_layer], dtype=np.float32)\n",
    "    cell_state = np.zeros([1, hidden_layer], dtype=np.float32)\n",
    "\n",
    "    # Perform forward propagation through LSTM for each time step\n",
    "    for t in range(window_size):\n",
    "        cell_state, hidden_state = LSTM_cell(\n",
    "            tf.reshape(input[i][t], (-1, 1)), hidden_state, cell_state\n",
    "        )\n",
    "\n",
    "    y_hat.append(tf.matmul(hidden_state, V) + b_v)"
   ]
  },
  {
   "cell_type": "markdown",
   "metadata": {},
   "source": [
    "## Defining backpropagation\n",
    "\n"
   ]
  },
  {
   "cell_type": "markdown",
   "metadata": {},
   "source": [
    "The backpropagation in LSTMs looks like the following : \n",
    "\n",
    "The loss is computed at each time step to determine how well our LSTM\n",
    "model is predicting the output. Say we use cross-entropy as a loss function,\n",
    "then the loss, $L$, at time step $t$ is given by the following equation:\n",
    "$$L_t = -y_t log(\\hat{y}_t)$$"
   ]
  },
  {
   "cell_type": "code",
   "execution_count": 7,
   "metadata": {},
   "outputs": [],
   "source": [
    "# Initialize the list to store the losses\n",
    "losses = []\n",
    "\n",
    "mse = tf.keras.losses.MeanSquaredError()\n",
    "\n",
    "for i in range(len(y_hat)):\n",
    "    losses.append(mse(tf.reshape(target[i], (-1, 1)), y_hat[i]))\n",
    "\n",
    "loss = tf.reduce_mean(losses)\n",
    "\n",
    "gradients = tf.gradients(loss, tf.compat.v1.trainable_variables())\n",
    "clipped, _ = tf.clip_by_global_norm(gradients, 4.0)\n",
    "\n",
    "optimizer = tf.compat.v1.train.AdamOptimizer(learning_rate).apply_gradients(\n",
    "    zip(clipped, tf.compat.v1.trainable_variables())\n",
    ")"
   ]
  },
  {
   "cell_type": "markdown",
   "metadata": {},
   "source": [
    "## Training the LSTM model"
   ]
  },
  {
   "cell_type": "code",
   "execution_count": 8,
   "metadata": {},
   "outputs": [
    {
     "name": "stdout",
     "output_type": "stream",
     "text": [
      "Epoch 0, Loss: 0.18813025951385498\n",
      "Epoch 10, Loss: 0.04280577227473259\n",
      "Epoch 20, Loss: 0.01697182096540928\n",
      "Epoch 30, Loss: 0.013848923146724701\n",
      "Epoch 40, Loss: 0.01168770156800747\n",
      "Epoch 50, Loss: 0.009312540292739868\n",
      "Epoch 60, Loss: 0.010031787678599358\n",
      "Epoch 70, Loss: 0.008508213795721531\n",
      "Epoch 80, Loss: 0.007577655836939812\n",
      "Epoch 90, Loss: 0.007236947305500507\n"
     ]
    }
   ],
   "source": [
    "# Start the TensorFlow session and initialize variables\n",
    "session = tf.compat.v1.Session()\n",
    "session.run(tf.compat.v1.global_variables_initializer())\n",
    "\n",
    "epochs = 100\n",
    "\n",
    "# Training loop\n",
    "for i in range(epochs):\n",
    "    train_predictions = []\n",
    "    index = 0\n",
    "    epoch_loss = []\n",
    "\n",
    "    while (index + batch_size) <= len(X_train):\n",
    "\n",
    "        X_batch = X_train[index : index + batch_size]\n",
    "        y_batch = y_train[index : index + batch_size]\n",
    "\n",
    "        predicted, loss_val, _ = session.run(\n",
    "            [y_hat, loss, optimizer], feed_dict={input: X_batch, target: y_batch}\n",
    "        )\n",
    "\n",
    "        epoch_loss.append(loss_val)\n",
    "\n",
    "        train_predictions.append(predicted)\n",
    "\n",
    "        index += batch_size\n",
    "\n",
    "    # Print the loss every 10 iterations\n",
    "    if (i % 10) == 0:\n",
    "        print(\"Epoch {}, Loss: {}\".format(i, np.mean(epoch_loss)))"
   ]
  },
  {
   "cell_type": "markdown",
   "metadata": {},
   "source": [
    "## Making predictions using the LSTM model"
   ]
  },
  {
   "cell_type": "code",
   "execution_count": 9,
   "metadata": {},
   "outputs": [
    {
     "name": "stdout",
     "output_type": "stream",
     "text": [
      "[array([[-0.60477465]], dtype=float32), array([[-0.6020847]], dtype=float32), array([[-0.60116285]], dtype=float32), array([[-0.600002]], dtype=float32), array([[-0.59953785]], dtype=float32), array([[-0.60110676]], dtype=float32), array([[-0.5973656]], dtype=float32)]\n"
     ]
    }
   ],
   "source": [
    "# Start making predictions on the test set\n",
    "predicted_output = []\n",
    "i = 0\n",
    "\n",
    "# Loop through the test set in batches\n",
    "while i + batch_size <= len(X_test):\n",
    "    X_batch = X_test[i : i + batch_size]\n",
    "    X_batch = X_batch.reshape((batch_size, window_size, 1))  # Reshape the input batch\n",
    "    output = session.run(y_hat, feed_dict={input: X_batch})\n",
    "    i += batch_size\n",
    "    predicted_output.append(output)\n",
    "\n",
    "print(predicted_output[0])"
   ]
  },
  {
   "cell_type": "code",
   "execution_count": 10,
   "metadata": {},
   "outputs": [
    {
     "data": {
      "text/plain": [
       "array([-0.60477465], dtype=float32)"
      ]
     },
     "execution_count": 10,
     "metadata": {},
     "output_type": "execute_result"
    }
   ],
   "source": [
    "# Flatten the nested list of predicted values\n",
    "predicted_values_test = []\n",
    "for i in range(len(predicted_output)):\n",
    "    for j in range(len(predicted_output[i])):\n",
    "        predicted_values_test.append(predicted_output[i][j][0])\n",
    "\n",
    "predicted_values_test[0]"
   ]
  },
  {
   "cell_type": "code",
   "execution_count": 11,
   "metadata": {},
   "outputs": [],
   "source": [
    "predictions = []\n",
    "for i in range(1280):\n",
    "      if i >= 1000:\n",
    "        predictions.append(predicted_values_test[i-1019][0])\n",
    "      else:\n",
    "        predictions.append(np.full(predicted_values_test[0][0].shape, None))\n",
    "predictions = np.array(predictions)"
   ]
  },
  {
   "cell_type": "code",
   "execution_count": 12,
   "metadata": {},
   "outputs": [
    {
     "data": {
      "image/png": "[encoded data removed]",
      "text/plain": [
       "<Figure size 1600x700 with 1 Axes>"
      ]
     },
     "metadata": {},
     "output_type": "display_data"
    }
   ],
   "source": [
    "plt.figure(figsize=(16, 7))\n",
    "plt.plot(data, label=\"Actual\")\n",
    "plt.plot(predictions, label=\"Predicted\")\n",
    "plt.legend()\n",
    "plt.xlabel(\"Days\")\n",
    "plt.ylabel(\"Price\")\n",
    "plt.grid()\n",
    "plt.show()"
   ]
  },
  {
   "cell_type": "markdown",
   "metadata": {},
   "source": [
    "# Gated Recurrent Units \n",
    "Thus, while backpropagating the LSTM network, we need to update a lot of\n",
    "parameters in every iteration. This increases our training time. So, we\n",
    "introduce the Gated Recurrent Units (GRU) cell, which acts as a\n",
    "simplified version of the LSTM cell. Unlike the LSTM cell, the GRU cell has\n",
    "only two gates and one hidden state.\n",
    "\n"
   ]
  },
  {
   "cell_type": "markdown",
   "metadata": {},
   "source": [
    "## Gates of GRUs\n",
    "\n",
    "Understanding the various gates of the Gated Recurrent Neural Network Unit (Update and Reset Gate)\n",
    "\n",
    "1.Update gate\n",
    "The update gate, $z$, at time step $t$ is expressed as follows:\n",
    "$$ z_t = \\sigma{(U_z x_t + W_z h_{t-1} + b_z)} $$\n",
    "\n",
    "2.Reset Gate\n",
    "The reset gate, $\\epsilon$, at\n",
    "time step $t$ is expressed as follows:\n",
    "$$ h_m = tanh(U x_m + Wh_{m-1}) $$\n",
    "\n"
   ]
  },
  {
   "cell_type": "markdown",
   "metadata": {},
   "source": [
    "## Summary\n",
    "\n",
    "1. Update Gate: $\\theta = \\theta - \\alpha. \\nabla_\\theta J(\\theta)$\n",
    "1. Reset Gate: $\\theta = \\theta - \\alpha. \\nabla_\\theta J(\\theta)$\n",
    "1. Content Gate: $\\theta = \\theta - \\alpha. \\nabla_\\theta J(\\theta)$\n",
    "1. Hidden State: $\\theta = \\theta - \\alpha. \\nabla_\\theta J(\\theta)$\n",
    "1. Output: $\\theta = \\theta - \\alpha. \\nabla_\\theta J(\\theta)$"
   ]
  },
  {
   "cell_type": "markdown",
   "metadata": {},
   "source": [
    "# Implementing a GRU cell in TensorFlow"
   ]
  },
  {
   "cell_type": "markdown",
   "metadata": {},
   "source": [
    "## Defining the weights"
   ]
  },
  {
   "cell_type": "code",
   "execution_count": 13,
   "metadata": {},
   "outputs": [],
   "source": [
    "vocab_size = 512\n",
    "hidden_size = 64\n",
    "input_size = 128\n",
    "output_size = 10\n",
    "init = tf.initializers.glorot_uniform()"
   ]
  },
  {
   "cell_type": "code",
   "execution_count": 14,
   "metadata": {},
   "outputs": [],
   "source": [
    "# Weights for the update gate\n",
    "Uz = tf.compat.v1.get_variable(\"Uz\", [vocab_size, hidden_size], initializer=init)\n",
    "Wz = tf.compat.v1.get_variable(\"Wz\", [hidden_size, hidden_size], initializer=init)\n",
    "bz = tf.compat.v1.get_variable(\"bz\", [hidden_size], initializer=init)\n",
    "\n",
    "# Weights for the reset gate\n",
    "Ur = tf.compat.v1.get_variable(\"Ur\", [vocab_size, hidden_size], initializer=init)\n",
    "Wr = tf.compat.v1.get_variable(\"Wr\", [hidden_size, hidden_size], initializer=init)\n",
    "br = tf.compat.v1.get_variable(\"br\", [hidden_size], initializer=init)\n",
    "\n",
    "# Weights for the content state\n",
    "Uc = tf.compat.v1.get_variable(\"Uc\", [vocab_size, hidden_size], initializer=init)\n",
    "Wc = tf.compat.v1.get_variable(\"Wc\", [hidden_size, hidden_size], initializer=init)\n",
    "bc = tf.compat.v1.get_variable(\"bc\", [hidden_size], initializer=init)\n",
    "\n",
    "# Weights for the output layer\n",
    "V = tf.compat.v1.get_variable(\"V\", [hidden_size, vocab_size], initializer=init)\n",
    "by = tf.compat.v1.get_variable(\"by\", [vocab_size], initializer=init)"
   ]
  },
  {
   "cell_type": "markdown",
   "metadata": {},
   "source": [
    "## Defining forward propagation"
   ]
  },
  {
   "cell_type": "code",
   "execution_count": 15,
   "metadata": {},
   "outputs": [],
   "source": [
    "import tensorflow as tf\n",
    "\n",
    "tf.compat.v1.disable_eager_execution()\n",
    "\n",
    "x_t = tf.compat.v1.placeholder(tf.float32, [batch_size, vocab_size])\n",
    "h_t = tf.compat.v1.get_variable(\"h_t\", [batch_size, hidden_size], initializer=init)\n",
    "\n",
    "zt = tf.sigmoid(tf.matmul(x_t, Uz) + tf.matmul(h_t, Wz) + bz)\n",
    "rt = tf.sigmoid(tf.matmul(x_t, Ur) + tf.matmul(h_t, Wr) + br)\n",
    "ct = tf.tanh(tf.matmul(x_t, Uc) + tf.matmul(tf.multiply(rt, h_t), Wc) + bc)\n",
    "h_t = tf.multiply((1 - zt), ct) + tf.multiply(zt, h_t)\n",
    "y_hat_t = tf.matmul(h_t, V) + by\n"
   ]
  },
  {
   "cell_type": "markdown",
   "metadata": {},
   "source": [
    "# Bidirectional RNN\n"
   ]
  },
  {
   "cell_type": "markdown",
   "metadata": {},
   "source": [
    "In a bidirectional RNN, we have two different layers of hidden units. Both of\n",
    "these layers connect from the input layer to the output layer. In one layer, the\n",
    "hidden states are shared from left to right, and in the other layer, they are\n",
    "shared from right to left."
   ]
  },
  {
   "cell_type": "code",
   "execution_count": null,
   "metadata": {},
   "outputs": [],
   "source": [
    "from tensorflow.compat.v1.nn import rnn_cell, static_bidirectional_rnn\n",
    "\n",
    "num_hidden = 7\n",
    "\n",
    "forward_hidden_layer = rnn_cell.LSTMCell(num_hidden, forget_bias=1.0)\n",
    "\n",
    "backward_hidden_layer = rnn_cell.LSTMCell(num_hidden, forget_bias=1.0)\n",
    "\n",
    "outputs, forward_states, backward_states = rnn_cell.static_bidirectional_rnn(forward_hidden_layer, backward_hidden_layer, input)\n"
   ]
  },
  {
   "cell_type": "code",
   "execution_count": null,
   "metadata": {},
   "outputs": [],
   "source": []
  }
 ],
 "metadata": {
  "kernelspec": {
   "display_name": "Python 3 (ipykernel)",
   "language": "python",
   "name": "python3"
  },
  "language_info": {
   "codemirror_mode": {
    "name": "ipython",
    "version": 3
   },
   "file_extension": ".py",
   "mimetype": "text/x-python",
   "name": "python",
   "nbconvert_exporter": "python",
   "pygments_lexer": "ipython3",
   "version": "3.12.7"
  }
 },
 "nbformat": 4,
 "nbformat_minor": 4
}

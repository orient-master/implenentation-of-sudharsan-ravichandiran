{
 "cells": [
  {
   "cell_type": "markdown",
   "id": "ddbee7c5-0a8f-4563-a4e2-85203e77e331",
   "metadata": {},
   "source": [
    "## Gradient Descent in Regressionimport warnings\n"
   ]
  },
  {
   "cell_type": "code",
   "execution_count": 13,
   "id": "d7e35e58-e042-49ff-95ef-cc4db94e14e9",
   "metadata": {},
   "outputs": [],
   "source": [
    "warnings.filterwarnings('ignore')\n",
    "import random\n",
    "import math\n",
    "import numpy as np\n",
    "from matplotlib import pyplot as plt\n",
    "%matplotlib inline"
   ]
  },
  {
   "cell_type": "code",
   "execution_count": 5,
   "id": "9964873e-0a92-4658-9963-2ce506e4f167",
   "metadata": {},
   "outputs": [
    {
     "name": "stdout",
     "output_type": "stream",
     "text": [
      "[-1.82667895  0.02395631]\n",
      "-1.8266789502593426\n",
      "0.02395630513649619\n",
      "[0. 0.]\n"
     ]
    }
   ],
   "source": [
    "## preparing dataset\n",
    "data = np.random.randn(500, 2)\n",
    "print(data[0])\n",
    "print(data[0,0])\n",
    "print(data[0,1])\n",
    "\n",
    "theta = np.zeros(2)\n",
    "print(theta)"
   ]
  },
  {
   "cell_type": "code",
   "execution_count": 9,
   "id": "1cff5d74-3828-48dc-aecd-b843f140818b",
   "metadata": {},
   "outputs": [
    {
     "name": "stdout",
     "output_type": "stream",
     "text": [
      "1.0544176152035705\n"
     ]
    }
   ],
   "source": [
    "## defining loss function\n",
    "def loss_function(data,theta):\n",
    "  m = theta[0]\n",
    "  b = theta[1]\n",
    "  loss = 0\n",
    "  for i in range(0, len(data)):\n",
    "    x = data[i, 0]\n",
    "    y = data[i, 1]\n",
    "    y_hat = (m*x + b)\n",
    "    loss = loss + ((y - (y_hat)) ** 2)\n",
    "  mse = loss / float(len(data))\n",
    "  return mse\n",
    "\n",
    "loss = loss_function(data, theta)\n",
    "print(loss)"
   ]
  },
  {
   "cell_type": "code",
   "execution_count": 10,
   "id": "53e8b162-1dbe-4a8c-893a-2aa2a014c238",
   "metadata": {},
   "outputs": [
    {
     "name": "stdout",
     "output_type": "stream",
     "text": [
      "[ 4.44272060e-05 -2.83302037e-06]\n"
     ]
    },
    {
     "data": {
      "text/plain": [
       "Text(0.5, 1.0, 'Gradient Descent')"
      ]
     },
     "execution_count": 10,
     "metadata": {},
     "output_type": "execute_result"
    },
    {
     "data": {
      "image/png": "[encoded data removed]",
      "text/plain": [
       "<Figure size 640x480 with 1 Axes>"
      ]
     },
     "metadata": {},
     "output_type": "display_data"
    }
   ],
   "source": [
    "## computing the gradient of the loss function\n",
    "def compute_gradients(data, theta):\n",
    "  gradients = np.zeros(2)\n",
    "  N = float(len(data))\n",
    "  m = theta[0]\n",
    "  b = theta[1]\n",
    "  for i in range(0, len(data)):\n",
    "    x = data[i, 0]\n",
    "    y = data[i, 1]\n",
    "    gradients[0] += - (2 / N) * x * (y - (( m* x) + b))\n",
    "    gradients[1] += - (2 / N) * (y - ((theta[0] * x) + b))\n",
    "  epsilon = 1e-6\n",
    "  gradients = np.divide(gradients, N + epsilon)\n",
    "  return gradients\n",
    "\n",
    "gradients=compute_gradients(data,theta)\n",
    "print(gradients)\n",
    "\n",
    "num_iterations = 50000\n",
    "lr = 1e-2\n",
    "loss = []\n",
    "theta = np.zeros(2)\n",
    "for t in range(num_iterations):\n",
    "  #compute gradients\n",
    "  gradients = compute_gradients(data, theta)\n",
    "  #update parameter\n",
    "  theta = theta - (lr*gradients)\n",
    "  #store the loss\n",
    "  loss.append(loss_function(data,theta))\n",
    "plt.plot(loss)\n",
    "plt.grid()\n",
    "plt.xlabel('Training Iterations')\n",
    "plt.ylabel('Cost')\n",
    "plt.title('Gradient Descent')"
   ]
  },
  {
   "cell_type": "markdown",
   "id": "e83461b1-ff67-494c-9c70-fe1410d59403",
   "metadata": {},
   "source": [
    "## Gradient Descent versus Stochastic Gradient Descent"
   ]
  },
  {
   "cell_type": "code",
   "execution_count": 15,
   "id": "fa029669-5f33-420c-8c62-2ea21f2f08b7",
   "metadata": {},
   "outputs": [
    {
     "name": "stdout",
     "output_type": "stream",
     "text": [
      "[-0.00651381 -0.01954048]\n"
     ]
    }
   ],
   "source": [
    "import warnings\n",
    "warnings.filterwarnings('ignore')\n",
    "import random\n",
    "import math\n",
    "import numpy as np\n",
    "from matplotlib import pyplot as plt\n",
    "%matplotlib inline\n",
    "\n",
    "data = np.random.randn(500, 2)\n",
    "theta = np.zeros(2)\n",
    "\n",
    "def minibatch(data, theta, lr = 1e-2, minibatch_ratio = 0.01, num_iterations = 1000):\n",
    "  minibatch_size = int(math.ceil(len(data) * minibatch_ratio))\n",
    "  for t in range(num_iterations):\n",
    "    sample_size = random.sample(range(len(data)), minibatch_size)\n",
    "    np.random.shuffle(data)\n",
    "    sample_data = data[0:sample_size[0], :]\n",
    "    grad = compute_gradients(sample_data, theta)\n",
    "    theta = theta - (lr * grad)\n",
    "  return theta\n",
    "\n",
    "print(minibatch(data, theta))"
   ]
  },
  {
   "cell_type": "markdown",
   "id": "9f5e0a18-3db6-42c0-a0fa-510e1c8f2233",
   "metadata": {},
   "source": [
    "## Momentum based Gradient Descent"
   ]
  },
  {
   "cell_type": "code",
   "execution_count": 17,
   "id": "8a26641a-008a-47cd-af9a-7faa40e6ced2",
   "metadata": {},
   "outputs": [
    {
     "name": "stdout",
     "output_type": "stream",
     "text": [
      "[0.01508416 0.02016792]\n",
      "[0.01507968 0.02016208]\n"
     ]
    }
   ],
   "source": [
    "import warnings\n",
    "warnings.filterwarnings('ignore')\n",
    "import random\n",
    "import math\n",
    "import numpy as np\n",
    "from matplotlib import pyplot as plt\n",
    "%matplotlib inline\n",
    "\n",
    "data = np.random.randn(500, 2)\n",
    "theta = np.zeros(2)\n",
    "\n",
    "## Gradient descent with momentum\n",
    "def momentum(data, theta, lr = 1e-2, gamma = 0.9, num_iterations = 1000):\n",
    "  vt = np.zeros(theta.shape[0])\n",
    "  for t in range(num_iterations):\n",
    "    gradients = compute_gradients(data, theta)\n",
    "    vt = gamma * vt + lr * gradients\n",
    "    theta = theta - vt\n",
    "  return theta\n",
    "\n",
    "print(momentum(data, theta))\n",
    "\n",
    "## Nesterov accelerated gradient\n",
    "def NAG(data, theta, lr = 1e-2, gamma = 0.9, num_iterations = 1000):\n",
    "  vt = np.zeros(theta.shape[0])\n",
    "  for t in range(num_iterations):\n",
    "    gradients = compute_gradients(data, theta - gamma * vt)\n",
    "    vt = gamma * vt + lr * gradients\n",
    "    theta = theta - vt\n",
    "  return theta\n",
    "\n",
    "print(NAG(data, theta))"
   ]
  },
  {
   "cell_type": "markdown",
   "id": "bcd7ebf9-87d2-4d6b-af47-6b94bf32c36d",
   "metadata": {},
   "source": [
    "## Adaptive methods of Gradient Descent"
   ]
  },
  {
   "cell_type": "code",
   "execution_count": 18,
   "id": "530674ce-8bb9-4b24-a0b4-370e1a2865e4",
   "metadata": {},
   "outputs": [
    {
     "name": "stdout",
     "output_type": "stream",
     "text": [
      "[ 0.00879207 -0.00452233]\n",
      "[ 0.00864461 -0.00444192]\n",
      "[ 0.00879207 -0.00452233]\n",
      "[ 0.00877441 -0.00451711]\n",
      "[ 0.00879207 -0.00452233]\n",
      "[ 0.00879207 -0.00452233]\n",
      "[ 0.00879207 -0.00452233]\n"
     ]
    }
   ],
   "source": [
    "import warnings\n",
    "warnings.filterwarnings('ignore')\n",
    "import random\n",
    "import math\n",
    "import numpy as np\n",
    "from matplotlib import pyplot as plt\n",
    "%matplotlib inline\n",
    "\n",
    "data = np.random.randn(500, 2)\n",
    "theta = np.zeros(2)\n",
    "\n",
    "## Setting a learning rate adaptively using Adagrad\n",
    "def AdaGrad(data, theta, lr = 1e-2, epsilon = 1e-8, num_iterations = 10000):\n",
    "  gradients_sum = np.zeros(theta.shape[0])\n",
    "  for t in range(num_iterations):\n",
    "    gradients = compute_gradients(data, theta)\n",
    "    gradients_sum += gradients ** 2\n",
    "    gradient_update = gradients / (np.sqrt(gradients_sum + epsilon))\n",
    "    theta = theta - (lr * gradient_update)\n",
    "  return theta\n",
    "\n",
    "print(AdaGrad(data, theta))\n",
    "\n",
    "## Doing away with the learning rate using Adadelta\n",
    "def AdaDelta(data, theta, gamma = 0.9, epsilon = 1e-5, num_iterations = 1000):\n",
    "  # running average of gradients\n",
    "  E_grad2 = np.zeros(theta.shape[0])\n",
    "  #running average of parameter update\n",
    "  E_delta_theta2 = np.zeros(theta.shape[0])\n",
    "  for t in range(num_iterations):\n",
    "    gradients = compute_gradients(data, theta)\n",
    "    E_grad2 = gamma * E_grad2 + (1 - gamma) * gradients ** 2\n",
    "    delta_theta = - (np.sqrt(E_delta_theta2 + epsilon)) / (np.sqrt(E_grad2 + epsilon)) * gradients\n",
    "    E_delta_theta2 = (gamma * E_delta_theta2) + ((1. - gamma) * (delta_theta ** 2))\n",
    "    theta = theta + delta_theta\n",
    "  return theta\n",
    "\n",
    "print(AdaDelta(data, theta))\n",
    "\n",
    "## Overcoming the limitations of Adagrad using RMSProp\n",
    "def RMSProp(data, theta, lr = 1e-2, gamma = 0.9, epsilon = 1e-6, num_iterations = 1000):\n",
    "  E_grad2 = np.zeros(theta.shape[0])\n",
    "  for t in range(num_iterations):\n",
    "    gradients = compute_gradients(data, theta)\n",
    "    E_grad2 = gamma * E_grad2 + (1 - gamma) * gradients ** 2\n",
    "    theta = theta - (lr / np.sqrt(E_grad2 + epsilon)) * gradients\n",
    "  return theta\n",
    "\n",
    "print(RMSProp(data, theta))\n",
    "\n",
    "## Adaptive moment estimation\n",
    "def Adam(data, theta, lr = 1e-2, beta1 = 0.9, beta2 = 0.9, epsilon = 1e-6, num_iterations = 1000):\n",
    "  mt = np.zeros(theta.shape[0])\n",
    "  vt = np.zeros(theta.shape[0])\n",
    "  for t in range(num_iterations):\n",
    "    gradients = compute_gradients(data, theta)\n",
    "    mt = beta1 * mt + (1. - beta1) * gradients\n",
    "    vt = beta2 * vt + (1. - beta2) * gradients ** 2\n",
    "    mt_hat = mt / (1. - beta1 ** (t+1))\n",
    "    vt_hat = vt / (1. - beta2 ** (t+1))\n",
    "    theta = theta - (lr / (np.sqrt(vt_hat) + epsilon)) * mt_hat\n",
    "  return theta\n",
    "\n",
    "print(Adam(data, theta))\n",
    "\n",
    "## Adamax – Adam based on infinity-norm\n",
    "def Adamax(data, theta, lr = 1e-2, beta1 = 0.9, beta2 = 0.999, epsilon = 1e-6, num_iterations = 1000):\n",
    "  mt = np.zeros(theta.shape[0])\n",
    "  vt = np.zeros(theta.shape[0])\n",
    "  for t in range(num_iterations):\n",
    "    gradients = compute_gradients(data, theta)\n",
    "    mt = beta1 * mt + (1. - beta1) * gradients\n",
    "    vt = np.maximum(beta2 * vt, np.abs(gradients))\n",
    "    mt_hat = mt / (1. - beta1 ** (t+1))\n",
    "    theta = theta - ((lr / (vt + epsilon)) * mt_hat)\n",
    "  return theta\n",
    "\n",
    "print(Adamax(data, theta))\n",
    "\n",
    "## Adaptive moment estimation with AMSGrad\n",
    "def AMSGrad(data, theta, lr = 1e-2, beta1 = 0.9, beta2 = 0.9, epsilon = 1e-6, num_iterations = 1000):\n",
    "  mt = np.zeros(theta.shape[0])\n",
    "  vt = np.zeros(theta.shape[0])\n",
    "  vt_hat = np.zeros(theta.shape[0])\n",
    "  for t in range(num_iterations):\n",
    "    gradients = compute_gradients(data, theta)\n",
    "    mt = beta1 * mt + (1. - beta1) * gradients\n",
    "    vt = beta2 * vt + (1. - beta2) * gradients ** 2\n",
    "    vt_hat = np.maximum(vt_hat,vt)\n",
    "    mt_hat = mt / (1. - beta1 ** (t+1))\n",
    "    theta = theta - (lr / (np.sqrt(vt_hat) + epsilon)) * mt_hat\n",
    "  return theta\n",
    "\n",
    "print(AMSGrad(data, theta))\n",
    "\n",
    "## Nadam – adding NAG to ADAM\n",
    "def Nadam(data, theta, lr = 1e-2, beta1 = 0.9, beta2 = 0.999, epsilon = 1e-6, num_iterations = 500):\n",
    "  mt = np.zeros(theta.shape[0])\n",
    "  vt = np.zeros(theta.shape[0])\n",
    "  beta_prod = 1\n",
    "  for t in range(num_iterations):\n",
    "    gradients = compute_gradients(data, theta)\n",
    "    mt = beta1 * mt + (1. - beta1) * gradients\n",
    "    vt = beta2 * vt + (1. - beta2) * gradients ** 2\n",
    "    beta_prod = beta_prod * (beta1)\n",
    "    mt_hat = mt / (1. - beta_prod)\n",
    "    g_hat = gradients / (1. - beta_prod)\n",
    "    vt_hat = vt / (1. - beta2 ** (t))\n",
    "    mt_tilde = (1-beta1**t+1) * mt_hat + ((beta1**t)* g_hat)\n",
    "    theta = theta - (lr / (np.sqrt(vt_hat) + epsilon)) * mt_hat\n",
    "  return theta\n",
    "\n",
    "print(Nadam(data, theta))"
   ]
  },
  {
   "cell_type": "code",
   "execution_count": null,
   "id": "08c9e352-8525-4aaa-9731-92164e27b1a5",
   "metadata": {},
   "outputs": [],
   "source": []
  }
 ],
 "metadata": {
  "kernelspec": {
   "display_name": "Python 3 (ipykernel)",
   "language": "python",
   "name": "python3"
  },
  "language_info": {
   "codemirror_mode": {
    "name": "ipython",
    "version": 3
   },
   "file_extension": ".py",
   "mimetype": "text/x-python",
   "name": "python",
   "nbconvert_exporter": "python",
   "pygments_lexer": "ipython3",
   "version": "3.11.7"
  }
 },
 "nbformat": 4,
 "nbformat_minor": 5
}
